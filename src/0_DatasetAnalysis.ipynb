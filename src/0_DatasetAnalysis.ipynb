{
  "nbformat": 4,
  "nbformat_minor": 0,
  "metadata": {
    "colab": {
      "name": "0_DatasetAnalysis.ipynb",
      "provenance": [],
      "collapsed_sections": [
        "OCc3ftcAl-Ia"
      ],
      "toc_visible": true,
      "include_colab_link": true
    },
    "kernelspec": {
      "name": "python3",
      "display_name": "Python 3"
    },
    "language_info": {
      "name": "python"
    }
  },
  "cells": [
    {
      "cell_type": "markdown",
      "metadata": {
        "id": "view-in-github",
        "colab_type": "text"
      },
      "source": [
        "<a href=\"https://colab.research.google.com/github/PaoloSani/ACTaM-CMRM-Project/blob/master/src/0_DatasetAnalysis.ipynb\" target=\"_parent\"><img src=\"https://colab.research.google.com/assets/colab-badge.svg\" alt=\"Open In Colab\"/></a>"
      ]
    },
    {
      "cell_type": "markdown",
      "metadata": {
        "id": "c1-rO5ADFtvH"
      },
      "source": [
        "# **ANALYSIS OF THE DATASET**\n",
        "### Count and plot how many examples for each class are present in each fold. Analyze the length and format of each audio segment. Check if the audio segments are mono or stereo."
      ]
    },
    {
      "cell_type": "markdown",
      "metadata": {
        "id": "X599OWBjHyCj"
      },
      "source": [
        "# Import libraries"
      ]
    },
    {
      "cell_type": "code",
      "metadata": {
        "id": "t904SfELH0_O"
      },
      "source": [
        "import pandas as pd\n",
        "import numpy as np"
      ],
      "execution_count": 1,
      "outputs": []
    },
    {
      "cell_type": "markdown",
      "metadata": {
        "id": "-Ad4PIZ0GHh7"
      },
      "source": [
        "# Mount the drive and enter the dataset directory"
      ]
    },
    {
      "cell_type": "code",
      "metadata": {
        "colab": {
          "base_uri": "https://localhost:8080/"
        },
        "id": "j1sYmYIIFqbV",
        "outputId": "2f4f4e85-761f-4826-de64-2ad8990bcacf"
      },
      "source": [
        "from google.colab import drive\n",
        "drive.mount('/content/drive')\n",
        "%cd \"/content/drive/MyDrive/CMLS_HW1_UrbanClassification/dataset\"\n",
        "%ls"
      ],
      "execution_count": 2,
      "outputs": [
        {
          "output_type": "stream",
          "text": [
            "Mounted at /content/drive\n",
            "/content/drive/.shortcut-targets-by-id/1i9lEcEb5PQxKCFXJaoO3WLS2p3xBnkij/CMLS_HW1_UrbanClassification/dataset\n",
            "extracted_features.json  \u001b[0m\u001b[01;34mfold3\u001b[0m/  \u001b[01;34mfold7\u001b[0m/                prova_feature_2.json\n",
            "\u001b[01;34mfold1\u001b[0m/                   \u001b[01;34mfold4\u001b[0m/  \u001b[01;34mfold8\u001b[0m/                UrbanSound8K.csv\n",
            "\u001b[01;34mfold10\u001b[0m/                  \u001b[01;34mfold5\u001b[0m/  \u001b[01;34mfold9\u001b[0m/\n",
            "\u001b[01;34mfold2\u001b[0m/                   \u001b[01;34mfold6\u001b[0m/  prova_feature_1.json\n"
          ],
          "name": "stdout"
        }
      ]
    },
    {
      "cell_type": "markdown",
      "metadata": {
        "id": "OCc3ftcAl-Ia"
      },
      "source": [
        "# Analyze the dataset distribution from the audio files (optional)"
      ]
    },
    {
      "cell_type": "code",
      "metadata": {
        "id": "PFCypRGymLvT",
        "colab": {
          "base_uri": "https://localhost:8080/",
          "height": 132
        },
        "outputId": "312c0235-ee4f-4016-b308-15593e84eb94"
      },
      "source": [
        "# Assume that the dataset is in the current directory\n",
        "dataset_path = Path(\".\")\n",
        "\n",
        "# For each directory, which corresponds to a fold ...\n",
        "for current_fold_dir in dataset_path.iterdir():\n",
        "  # Check if the directory is really a directory\n",
        "  if current_fold_dir.is_dir():\n",
        "    # Save the current fold number\n",
        "    current_fold_number = re.findall('[0-9-]+', str(current_fold_dir)) # Extract the fold number with regex\n",
        "    print(\"Scanning fold %i of 10\", current_fold_number)#, end='\\x1b[1K\\r') # Status printing with line clearing\n",
        "    \n",
        "    # For each audio file in current_fold_dir\n",
        "    for current_audio_dir in (dataset_path / current_fold_dir).iterdir():\n",
        "      # Check if it's really a file and not a folder\n",
        "      if not current_audio_dir.is_dir():\n",
        "        ## TODO: ##\n",
        "        # Extract the class of the audio file with regex\n",
        "        # Increment the counter for the current class in the current fold\n",
        "        # Check if the file is mono or stereo\n",
        "        # Check the duration of the audio file"
      ],
      "execution_count": 6,
      "outputs": [
        {
          "output_type": "error",
          "ename": "SyntaxError",
          "evalue": "ignored",
          "traceback": [
            "\u001b[0;36m  File \u001b[0;32m\"<ipython-input-6-9803007ffdf5>\"\u001b[0;36m, line \u001b[0;32m20\u001b[0m\n\u001b[0;31m    # Check the duration of the audio file\u001b[0m\n\u001b[0m                                          ^\u001b[0m\n\u001b[0;31mSyntaxError\u001b[0m\u001b[0;31m:\u001b[0m unexpected EOF while parsing\n"
          ]
        }
      ]
    },
    {
      "cell_type": "markdown",
      "metadata": {
        "id": "kU8h8BvGHXUm"
      },
      "source": [
        "# Analyze the dataset distribution from the CSV metadata (recommended)"
      ]
    },
    {
      "cell_type": "markdown",
      "metadata": {
        "id": "bx41Jr-iGlDB"
      },
      "source": [
        "## Load the metadata"
      ]
    },
    {
      "cell_type": "code",
      "metadata": {
        "id": "A0TSbLycB-fu"
      },
      "source": [
        "class_names = [\"air_conditioner\", \"car_horn\", \"children_playing\", \"dog_bark\",\n",
        "               \"drilling\", \"engine_idling\", \"gun_shot\", \"jackhammer\",\n",
        "               \"siren\", \"street_music\"]"
      ],
      "execution_count": 7,
      "outputs": []
    },
    {
      "cell_type": "code",
      "metadata": {
        "colab": {
          "base_uri": "https://localhost:8080/"
        },
        "id": "_UuoNp-AHex1",
        "outputId": "d24a0960-49be-451b-ce39-fd9ba2e7661b"
      },
      "source": [
        "dataset_metadata = pd.read_csv('UrbanSound8K.csv')\n",
        "print(dataset_metadata)"
      ],
      "execution_count": 8,
      "outputs": [
        {
          "output_type": "stream",
          "text": [
            "         slice_file_name    fsID       start  ...  fold  classID         className\n",
            "0       100032-3-0-0.wav  100032    0.000000  ...     5        3          dog_bark\n",
            "1     100263-2-0-117.wav  100263   58.500000  ...     5        2  children_playing\n",
            "2     100263-2-0-121.wav  100263   60.500000  ...     5        2  children_playing\n",
            "3     100263-2-0-126.wav  100263   63.000000  ...     5        2  children_playing\n",
            "4     100263-2-0-137.wav  100263   68.500000  ...     5        2  children_playing\n",
            "...                  ...     ...         ...  ...   ...      ...               ...\n",
            "8727     99812-1-2-0.wav   99812  159.522205  ...     7        1          car_horn\n",
            "8728     99812-1-3-0.wav   99812  181.142431  ...     7        1          car_horn\n",
            "8729     99812-1-4-0.wav   99812  242.691902  ...     7        1          car_horn\n",
            "8730     99812-1-5-0.wav   99812  253.209850  ...     7        1          car_horn\n",
            "8731     99812-1-6-0.wav   99812  332.289233  ...     7        1          car_horn\n",
            "\n",
            "[8732 rows x 8 columns]\n"
          ],
          "name": "stdout"
        }
      ]
    },
    {
      "cell_type": "code",
      "metadata": {
        "colab": {
          "base_uri": "https://localhost:8080/"
        },
        "id": "hRRs-DjXBJ60",
        "outputId": "8268e0ff-035a-4dbc-e723-211ae0997ad2"
      },
      "source": [
        "dataset_metadata = pd.read_csv('UrbanSound8K.csv',\n",
        "                               usecols = ['fold', 'classID', 'className'],\n",
        "                               dtype = {'fold':np.uint32 , 'classID':np.uint32})\n",
        "print(dataset_metadata)"
      ],
      "execution_count": 9,
      "outputs": [
        {
          "output_type": "stream",
          "text": [
            "      fold  classID         className\n",
            "0        5        3          dog_bark\n",
            "1        5        2  children_playing\n",
            "2        5        2  children_playing\n",
            "3        5        2  children_playing\n",
            "4        5        2  children_playing\n",
            "...    ...      ...               ...\n",
            "8727     7        1          car_horn\n",
            "8728     7        1          car_horn\n",
            "8729     7        1          car_horn\n",
            "8730     7        1          car_horn\n",
            "8731     7        1          car_horn\n",
            "\n",
            "[8732 rows x 3 columns]\n"
          ],
          "name": "stdout"
        }
      ]
    },
    {
      "cell_type": "markdown",
      "metadata": {
        "id": "j8oqAUMNGopQ"
      },
      "source": [
        "## Plot the distributions"
      ]
    },
    {
      "cell_type": "code",
      "metadata": {
        "colab": {
          "base_uri": "https://localhost:8080/",
          "height": 264
        },
        "id": "cwdygydcCxS6",
        "outputId": "adf7bca0-9eb8-4842-ca7c-780ae99fe5e4"
      },
      "source": [
        "# How many audio samples for each fold\n",
        "\n",
        "fold_ax = dataset_metadata.fold.hist(bins=19, figsize=(13,4))"
      ],
      "execution_count": 21,
      "outputs": [
        {
          "output_type": "display_data",
          "data": {
            "image/png": "[encoded data removed]",
            "text/plain": [
              "<Figure size 936x288 with 1 Axes>"
            ]
          },
          "metadata": {
            "tags": [],
            "needs_background": "light"
          }
        }
      ]
    },
    {
      "cell_type": "code",
      "metadata": {
        "colab": {
          "base_uri": "https://localhost:8080/"
        },
        "id": "Kd0W8rnh8-_K",
        "outputId": "e3d93763-1d97-4ebe-bb8d-b7e076268d1e"
      },
      "source": [
        "folds = set(dataset_metadata['fold'])\n",
        "print(folds)\n",
        "cnt = [[fold,list(dataset_metadata['fold']).count(fold)] for fold in folds]\n",
        "dict_cnt = dict(cnt)\n",
        "\n",
        "dict_cnt"
      ],
      "execution_count": 17,
      "outputs": [
        {
          "output_type": "stream",
          "text": [
            "{1, 2, 3, 4, 5, 6, 7, 8, 9, 10}\n"
          ],
          "name": "stdout"
        },
        {
          "output_type": "execute_result",
          "data": {
            "text/plain": [
              "{1: 873,\n",
              " 2: 888,\n",
              " 3: 925,\n",
              " 4: 990,\n",
              " 5: 936,\n",
              " 6: 823,\n",
              " 7: 838,\n",
              " 8: 806,\n",
              " 9: 816,\n",
              " 10: 837}"
            ]
          },
          "metadata": {
            "tags": []
          },
          "execution_count": 17
        }
      ]
    },
    {
      "cell_type": "code",
      "metadata": {
        "colab": {
          "base_uri": "https://localhost:8080/",
          "height": 264
        },
        "id": "yd8TDwS3HpYJ",
        "outputId": "513e1ce7-c235-4611-ae54-e5fe6cd22946"
      },
      "source": [
        "# How many audio samples for each class\n",
        "\n",
        "classID_ax = dataset_metadata.classID.plot.hist(bins=19)"
      ],
      "execution_count": 18,
      "outputs": [
        {
          "output_type": "display_data",
          "data": {
            "image/png": "[encoded data removed]",
            "text/plain": [
              "<Figure size 432x288 with 1 Axes>"
            ]
          },
          "metadata": {
            "tags": [],
            "needs_background": "light"
          }
        }
      ]
    },
    {
      "cell_type": "code",
      "metadata": {
        "id": "kloNbrijzURU",
        "colab": {
          "base_uri": "https://localhost:8080/"
        },
        "outputId": "d6687065-d0cc-425c-e9e6-ea8cbecbfca7"
      },
      "source": [
        "labels = set(dataset_metadata['className'])\n",
        "cnt = [[label,list(dataset_metadata['className']).count(label)] for label in labels]\n",
        "dict_cnt = dict(cnt)\n",
        "dict_cnt"
      ],
      "execution_count": 20,
      "outputs": [
        {
          "output_type": "execute_result",
          "data": {
            "text/plain": [
              "{'air_conditioner': 1000,\n",
              " 'car_horn': 429,\n",
              " 'children_playing': 1000,\n",
              " 'dog_bark': 1000,\n",
              " 'drilling': 1000,\n",
              " 'engine_idling': 1000,\n",
              " 'gun_shot': 374,\n",
              " 'jackhammer': 1000,\n",
              " 'siren': 929,\n",
              " 'street_music': 1000}"
            ]
          },
          "metadata": {
            "tags": []
          },
          "execution_count": 20
        }
      ]
    },
    {
      "cell_type": "code",
      "metadata": {
        "id": "Cawwe6ZL_6CQ"
      },
      "source": [
        ""
      ],
      "execution_count": null,
      "outputs": []
    }
  ]
}